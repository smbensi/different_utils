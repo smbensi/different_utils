{
 "cells": [
  {
   "cell_type": "markdown",
   "metadata": {},
   "source": [
    "<center><img src=\"images/DLI Header.png\" alt=\"Header\" width=\"400\"></center>"
   ]
  },
  {
   "cell_type": "markdown",
   "metadata": {
    "tags": []
   },
   "source": [
    "# Building Video AI Applications at the Edge on Jetson Nano\n",
    "The DeepStream SDK offers a complete set of sample reference applications and pretrained neural networks to jump-start development. In this course, you'll leverage some of these samples to build your own DeepStream applications to analyze and annotate video streams.  \n",
    "\n",
    "<img src=\"images/DS_overview_reference_app.png\" width=800>\n",
    "\n",
    "To accomplish this goal, exercise notebooks are provided for you to work through. The notebooks are organized as a progressive exploration of common DeepStream video-analytic use cases.  \n",
    "\n",
    "## C++ vs Python\n",
    "Sample applications are included in the DeepStream SDK built in C++. Optional Python bindings and sample applications are also publicly available at https://github.com/NVIDIA-AI-IOT/deepstream_python_apps.\n",
    "\n",
    "For this course, the Python bindings and sample apps have been preinstalled and are explored through the notebooks as follows:"
   ]
  },
  {
   "cell_type": "markdown",
   "metadata": {
    "tags": []
   },
   "source": [
    "# Table of Contents\n",
    "1. [Object Detection Application](01_ObjDetect.ipynb)<br>\n",
    "You'll learn how to:\n",
    "   - Build a basic DeepStream pipeline\n",
    "   - Configure an object detection model\n",
    "1. [Analysis with Metadata](02_Metadata.ipynb)<br>\n",
    "You'll learn how to:\n",
    "   - Explore the metadata structures\n",
    "   - Extract metadata to perform analysis\n",
    "   - Change metadata to display insights\n",
    "1. [Multiple Networks Application](03_MultipleNetworks.ipynb)<br>\n",
    "You'll learn how to:\n",
    "   - Build a pipeline with multiple networks in series\n",
    "   - Add a secondary inference plugin to a pipeline\n",
    "   - Configure multiple networks and tracking in a pipeline  \n",
    "1. [Multiple Stream Input](04_MultiStream.ipynb)<br>\n",
    "You'll learn how to:\n",
    "   - Build a pipeline with multiple input streams in parallel\n",
    "   - Configure multiple input streams with different formats\n",
    "1. [Video File Output](05_VideoFileOutput.ipynb)<br>\n",
    "You'll learn how to:\n",
    "   - Build a pipeline that outputs to a file\n",
    "   - Create an annotated video file\n",
    "1. [Different Neural Networks](06_DiffNetworks.ipynb)<br>\n",
    "You'll learn how to:\n",
    "   - Build and run a YOLO application\n",
    "   - Access info on adding Faster-RCNN and SSD networks to DeepStream\n",
    "1. [Live Stream](07_DSWebcam.ipynb)<br>\n",
    "You'll learn how to:\n",
    "   - Build a pipeline with webcam input\n",
    "   - Run YOLO with a webcam"
   ]
  },
  {
   "cell_type": "markdown",
   "metadata": {},
   "source": [
    "<center><img src=\"images/DLI Header.png\" alt=\"Header\" width=\"400\"></center>"
   ]
  }
 ],
 "metadata": {
  "kernelspec": {
   "display_name": "Python 3",
   "language": "python",
   "name": "python3"
  },
  "language_info": {
   "codemirror_mode": {
    "name": "ipython",
    "version": 3
   },
   "file_extension": ".py",
   "mimetype": "text/x-python",
   "name": "python",
   "nbconvert_exporter": "python",
   "pygments_lexer": "ipython3",
   "version": "3.6.9"
  }
 },
 "nbformat": 4,
 "nbformat_minor": 4
}
