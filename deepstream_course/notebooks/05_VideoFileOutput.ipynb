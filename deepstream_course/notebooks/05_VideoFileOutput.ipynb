{
 "cells": [
  {
   "cell_type": "markdown",
   "metadata": {},
   "source": [
    "<center><img src=\"images/DLI Header.png\" alt=\"Header\" width=\"400\"></center>"
   ]
  },
  {
   "cell_type": "markdown",
   "metadata": {},
   "source": [
    "# 5.0  Video File Output\n",
    "It may be desirable to save an annotated file for later playback and analysis. \n",
    "\n",
    "Just as there are pipeline elements that decode and parse a file read from `filesrc` into a stream, the pattern can be reversed to save a video to file using `filesink`.  In this notebook, you'll learn how to add the elements required to encode, parse, multiplex, and save a video to file."
   ]
  },
  {
   "cell_type": "markdown",
   "metadata": {},
   "source": [
    "<img src=\"images/04_example_mp4_out.png\" alt=\"pipe to file\">"
   ]
  },
  {
   "cell_type": "markdown",
   "metadata": {},
   "source": [
    "**[5.1 Build a Pipeline that Outputs to a File](#5.1-Build-a-Pipeline-that-Outputs-to-a-File)**<br>\n",
    "&nbsp; &nbsp; &nbsp;[5.1.1 Practice Application `deepstream-test3-mp4-out`](#5.1.1-Practice-Application-deepstream-test3-mp4-out)<br>\n",
    "&nbsp; &nbsp; &nbsp;[5.1.2 Exercise: Run the Base Application](#5.1.2-Exercise:-Run-the-Base-Application)<br>\n",
    "**[5.2 Create an Annotated Video File](#5.2-Create-an-Annotated-Video-File)**<br>\n",
    "&nbsp; &nbsp; &nbsp;[5.2.1 Exercise: Output Annotated Video to File](#5.2.1-Exercise:-Output-Annotated-Video-to-File)<br>\n",
    "**[5.3 Put It All Together](#5.3-Put-It-All-Together)**<br>\n",
    "&nbsp; &nbsp; &nbsp;[5.3.1 Exercise: Change the File Type](#5.3.1-Exercise:-Change-the-File-Type)<br>"
   ]
  },
  {
   "cell_type": "markdown",
   "metadata": {},
   "source": [
    "# 5.1 Build a Pipeline that Outputs to a File\n",
    "In all of the RTSP output apps used so far in this course, the pipeline ended with the following sequence of plugin elements:\n",
    "- `Gst-nvv4l2h264enc` - encodes RAW data in I420 format to H264\n",
    "- `GstRtpH264Pay` - converts H264 encoded Payload to RTP packets (RFC 3984)\n",
    "- `GstUDPSink` - sends UDP packets to the network. When paired with RTP payloader (`Gst-rtph264pay`) it can implement RTP streaming\n",
    "\n",
    "To save a video stream to a file, we still use the H264 encoding plugin, `Gst-nvv4l2h264enc`, but not the `GstRtp264Pay` plugin for RTSP, nor the `GstUDPSink` plugin.  This is because the stream won't be transmitted over the network.  Instead, we need to **parse** the encoded stream and **multiplex** (sometimes called \"mux\") it into a convenient media container format, such as an ISO MPEG-4 `.mp4` file.  The `filesink` element becomes the new sink.<br>\n",
    "In summary, saving our rendered streams to a file requires the pipeline after rendering to be:\n",
    "- `Gst-nvv4l2h264enc` - encodes RAW data in I420 format to H264\n",
    "- `GstH264Parse` - parses the encoded H264 stream\n",
    "- `GstMP4Mux` -  merges streams (audio and video) into ISO MPEG-4 (.mp4) files.\n",
    "- `GstFileSink` - writes incoming data to a file in the local file system"
   ]
  },
  {
   "cell_type": "markdown",
   "metadata": {},
   "source": [
    "## 5.1.1 Practice Application `deepstream-test3-mp4-out`\n",
    "A sample app, based on the `deepstream-test3` reference app, sends the output to a file that can be viewed."
   ]
  },
  {
   "cell_type": "code",
   "execution_count": null,
   "metadata": {},
   "outputs": [],
   "source": [
    "# Set some path locations for readability\n",
    "PYTHON_APPS = '/opt/nvidia/deepstream/deepstream/sources/deepstream_python_apps/apps'\n",
    "STREAMS = '/opt/nvidia/deepstream/deepstream/samples/streams'\n",
    "DLI_APPS = '/opt/nvidia/deepstream/deepstream/sources/deepstream_python_apps/dli_apps'\n",
    "MY_APPS = '/opt/nvidia/deepstream/deepstream/sources/deepstream_python_apps/my_apps'\n",
    "# Make sure common utilities are in my_apps\n",
    "!cp -r $PYTHON_APPS/common $MY_APPS/\n",
    "\n",
    "# List the contents of the sample app\n",
    "!ls $DLI_APPS/deepstream-test3-mp4-out"
   ]
  },
  {
   "cell_type": "markdown",
   "metadata": {},
   "source": [
    "A comparison of the [deepstream-test3-rstp-out/deepstream_test3_rtsp_out.py](deepstream/sources/deepstream_python_apps/dli_apps/deepstream-test3-rtsp-out/deepstream_test3_rtsp_out.py) and the [deepstream-test3-mp4-out/deepstream_test3_mp4_out.py](deepstream/sources/deepstream_python_apps/dli_apps/deepstream-test3-mp4-out/deepstream_test3_mp4_out.py), the equivalent application that writes to file, reveals the following differences *(Note: the sample snippets below are abbreviated for clarity)*:\n",
    "\n",
    "RTSP streaming `deepstream-test3-rstp-out` code in `main()`:\n",
    "```python\n",
    "...\n",
    "\n",
    "    # Make the payload-encode video into RTP packets\n",
    "    if codec == \"H264\":\n",
    "        rtppay = Gst.ElementFactory.make(\"rtph264pay\", \"rtppay\")\n",
    "        print(\"Creating H264 rtppay\")\n",
    "    elif codec == \"H265\":\n",
    "        rtppay = Gst.ElementFactory.make(\"rtph265pay\", \"rtppay\")\n",
    "        print(\"Creating H265 rtppay\")\n",
    "    if not rtppay:\n",
    "        sys.stderr.write(\" Unable to create rtppay\")\n",
    "    \n",
    "    # Make the UDP sink\n",
    "    updsink_port_num = 5400\n",
    "    sink = Gst.ElementFactory.make(\"udpsink\", \"udpsink\")\n",
    "    if not sink:\n",
    "        sys.stderr.write(\" Unable to create udpsink\")\n",
    "    \n",
    "    sink.set_property('host', '224.224.255.255')\n",
    "    sink.set_property('port', updsink_port_num)\n",
    "    sink.set_property('async', False)\n",
    "    sink.set_property('sync', 1)\n",
    "    \n",
    "    print(\"Playing file %s \" %stream_path)\n",
    "    source.set_property('location', stream_path)\n",
    "\n",
    "...\n",
    "\n",
    "    print(\"Adding elements to Pipeline \\n\")\n",
    "    pipeline.add(pgie)\n",
    "    pipeline.add(tiler)\n",
    "    pipeline.add(nvvidconv)\n",
    "    pipeline.add(nvosd)\n",
    "    \n",
    "#####################  RTSP\n",
    "    pipeline.add(nvvidconv_postosd)\n",
    "    pipeline.add(caps)\n",
    "    pipeline.add(encoder)\n",
    "    pipeline.add(rtppay)\n",
    "    pipeline.add(sink)\n",
    "#####################\n",
    "\n",
    "...\n",
    "    \n",
    "    print(\"Linking elements in the Pipeline \\n\")\n",
    "    streammux.link(queue1)\n",
    "    queue1.link(pgie)\n",
    "    pgie.link(queue2)\n",
    "    queue2.link(tiler)\n",
    "    tiler.link(queue3)\n",
    "    queue3.link(nvvidconv)\n",
    "    nvvidconv.link(queue4)\n",
    "    queue4.link(nvosd)   \n",
    "        \n",
    "#####################  RTSP\n",
    "    nvosd.link(queue5)\n",
    "    queue5.link(nvvidconv_postosd)\n",
    "    nvvidconv_postosd.link(caps)\n",
    "    caps.link(encoder)\n",
    "    encoder.link(rtppay)\n",
    "    rtppay.link(sink)\n",
    "#####################\n",
    "\n",
    "...\n",
    "```\n",
    "\n",
    "File ouptut `deepstream-test3-mp4_out` code in `main()`:\n",
    "```python\n",
    "...\n",
    "    \n",
    "# added for mp4-out\n",
    "    codecparse = Gst.ElementFactory.make(\"h264parse\", \"h264_parse\")\n",
    "    if not codecparse:\n",
    "        sys.stderr.write(\" Unable to create codecparse \\n\")\n",
    "        \n",
    "    mux = Gst.ElementFactory.make(\"mp4mux\", \"mux\")\n",
    "    if not mux:\n",
    "        sys.stderr.write(\" Unable to create mux \\n\")\n",
    "\n",
    "    sink = Gst.ElementFactory.make(\"filesink\", \"filesink\")\n",
    "    if not sink:\n",
    "        sys.stderr.write(\" Unable to create filesink \\n\")\n",
    "    sink.set_property('location', output_path)\n",
    "\n",
    "...\n",
    "    \n",
    "    print(\"Adding elements to Pipeline \\n\")\n",
    "    pipeline.add(pgie)\n",
    "    pipeline.add(tiler)\n",
    "    pipeline.add(nvvidconv)\n",
    "    pipeline.add(nvosd)\n",
    "    \n",
    "#####################  RTSP\n",
    "    pipeline.add(nvvidconv_postosd)\n",
    "    pipeline.add(caps)\n",
    "    pipeline.add(encoder)\n",
    "    pipeline.add(codecparse)\n",
    "    pipeline.add(mux)\n",
    "#     pipeline.add(rtppay)\n",
    "    pipeline.add(sink)\n",
    "\n",
    "...\n",
    "    \n",
    "    print(\"Linking elements in the Pipeline \\n\")\n",
    "    streammux.link(queue1)\n",
    "    queue1.link(pgie)\n",
    "    pgie.link(queue2)\n",
    "    queue2.link(tiler)\n",
    "    tiler.link(queue3)\n",
    "    queue3.link(nvvidconv)\n",
    "    nvvidconv.link(queue4)\n",
    "    queue4.link(nvosd)\n",
    "        \n",
    "#####################  RTSP\n",
    "    nvosd.link(queue5)\n",
    "    queue5.link(nvvidconv_postosd)\n",
    "    nvvidconv_postosd.link(caps)\n",
    "    caps.link(encoder)\n",
    "    encoder.link(codecparse)\n",
    "    codecparse.link(mux)\n",
    "    mux.link(sink)\n",
    "#     encoder.link(rtppay)\n",
    "#     rtppay.link(sink)\n",
    "#####################\n",
    "\n",
    "...\n",
    "```\n",
    "\n",
    "Note the basic differences:\n",
    "* `rtppay` has been removed (`rtph264pay` element) \n",
    "* `codecparse` and `mux` have been added (`h264parse` and `mp4mux` elements)\n",
    "* `sink` has been changed (from a `udspsink` element to a `filesink` element)\n",
    "   * no `host`, `port`, `sync`, `async` properties used\n",
    "   * `location` property is required for `filesink`\n",
    "\n",
    "To parameterize the output file name (the variable `output_path`), an additional option is added to the `parse_args()` definition with the following lines of code:\n",
    "```python\n",
    "    parser.add_argument(\"-o\", \"--output\", default='/dli/task/out.mp4',\n",
    "                  help=\"Set the output file path \")\n",
    "    global output_path\n",
    "    output_path = args.output\n",
    "```"
   ]
  },
  {
   "cell_type": "markdown",
   "metadata": {},
   "source": [
    "## 5.1.2 Exercise: Run the Base Application"
   ]
  },
  {
   "cell_type": "code",
   "execution_count": null,
   "metadata": {},
   "outputs": [],
   "source": [
    "# Check usage of the test3 mp4 app with the help option\n",
    "!cd $DLI_APPS/deepstream-test3-mp4-out \\\n",
    "    && python3 deepstream_test3_mp4_out.py --help"
   ]
  },
  {
   "cell_type": "code",
   "execution_count": null,
   "metadata": {
    "scrolled": true
   },
   "outputs": [],
   "source": [
    "# Run the app with two input streams\n",
    "OUTPUT_PATH_EX1 = '/dli/task/nb5_out.mp4'\n",
    "!cd $DLI_APPS/deepstream-test3-mp4-out \\\n",
    "    && python3 deepstream_test3_mp4_out.py -o $OUTPUT_PATH_EX1 -i \\\n",
    "        file://$STREAMS/sample_720p.h264 \\\n",
    "        file://$STREAMS/sample_720p.mp4"
   ]
  },
  {
   "cell_type": "code",
   "execution_count": null,
   "metadata": {},
   "outputs": [],
   "source": [
    "# Watch the saved video\n",
    "import os\n",
    "from IPython.display import Video\n",
    "\n",
    "video_path = os.path.relpath(OUTPUT_PATH_EX1)\n",
    "Video(video_path, width = 600, height = 300)"
   ]
  },
  {
   "cell_type": "markdown",
   "metadata": {},
   "source": [
    "#### How did you do?\n",
    "If you see something like this image when you play your saved file, you did it!  If not, keep trying, or take a peek at the solution code in the solutions directory.  <br>"
   ]
  },
  {
   "cell_type": "markdown",
   "metadata": {},
   "source": [
    "<img src=\"images/04_test3_mp4_out.png\" alt=\"file output test1\">"
   ]
  },
  {
   "cell_type": "markdown",
   "metadata": {
    "tags": []
   },
   "source": [
    "# 5.2 Create an Annotated Video File\n",
    "All of the RSTP samples you've worked with so far include the same elements after rendering.  You can modify any of them to output to file in the same way as `deepstream-test3-mp4-out`."
   ]
  },
  {
   "cell_type": "markdown",
   "metadata": {
    "tags": []
   },
   "source": [
    "## 5.2.1 Exercise: Output Annotated Video to File\n",
    "Create a new app based on `deepstream-test1-rtsp-out` that saves the annotated output to a file at `/dli/task/nb5_test1_out.mp4`."
   ]
  },
  {
   "cell_type": "code",
   "execution_count": null,
   "metadata": {},
   "outputs": [],
   "source": [
    "# Create a new app located at $MY_APPS/dst1-mp4-out \n",
    "#      based on $PYTHON_APPS/deepstream-test1-rtsp-out\n",
    "!mkdir -p $MY_APPS/dst1-mp4-out\n",
    "!cp -rfv $PYTHON_APPS/deepstream-test1-rtsp-out/* $MY_APPS/dst1-mp4-out\n",
    "# Rename your Python file for clarity\n",
    "!mv $MY_APPS/dst1-mp4-out/deepstream_test1_rtsp_out.py \\\n",
    "    $MY_APPS/dst1-mp4-out/deepstream_test1_mp4_out.py"
   ]
  },
  {
   "cell_type": "markdown",
   "metadata": {},
   "source": [
    "Modify your [deepstream_test1_mp4_out.py](my_apps/dst1-mp4-out/deepstream_test1_mp4_out.py) Python file with the following steps (refer to the code differences highlighted in the previous section for details):\n",
    "1. Assign `codecparse` and `mux` as GstElement objects\n",
    "2. Remove the `rtph264pay` element.\n",
    "3. Add `h264parse` and `mp4mux` elements (assigned to `codecparse` and `mux`).\n",
    "4. Change `sink` from a `udspsink` element to a `filesink` element.\n",
    "   - Remove the \"host\" property that is no longer applicable.\n",
    "   - Set the \"location\" property.\n",
    "5. Change the `pipeline.add` and `.link` as needed to reflect the new pipeline.\n",
    "6. Adjust the `parse_args()` definition to include the output file parameter.  Use the definition `parse_args()` definition provided in [deepstream_test3_mp4_out.py](deepstream/sources/deepstream_python_apps/dli_apps/deepstream-test3-mp4-out/deepstream_test3_mp4_out.py) as a guide.\n",
    "\n",
    "      ```python\n",
    "   # hint - add these three lines\n",
    "      parser.add_argument(\"-o\", \"--output\", default='/dli/task/out.mp4',\n",
    "              help=\"Set the output file path \")\n",
    "      global output_path\n",
    "      output_path = args.output\n",
    "      ```"
   ]
  },
  {
   "cell_type": "code",
   "execution_count": null,
   "metadata": {},
   "outputs": [],
   "source": [
    "# Check usage of your new test1 mp4 app with the help option\n",
    "!cd $MY_APPS/dst1-mp4-out \\\n",
    "    && python3 deepstream_test1_mp4_out.py --help"
   ]
  },
  {
   "cell_type": "code",
   "execution_count": null,
   "metadata": {
    "scrolled": true
   },
   "outputs": [],
   "source": [
    "# Run the app\n",
    "OUTPUT_PATH_EX2 = '/dli/task/nb5_test1_out.mp4'\n",
    "!cd $MY_APPS/dst1-mp4-out \\\n",
    "    && python3 deepstream_test1_mp4_out.py \\\n",
    "        -o $OUTPUT_PATH_EX2 \\\n",
    "        -i $STREAMS/sample_720p.h264"
   ]
  },
  {
   "cell_type": "code",
   "execution_count": null,
   "metadata": {},
   "outputs": [],
   "source": [
    "# Watch the saved video\n",
    "import os\n",
    "from IPython.display import Video\n",
    "\n",
    "video_path = os.path.relpath(OUTPUT_PATH_EX2)\n",
    "Video(video_path, width = 600, height = 300)"
   ]
  },
  {
   "cell_type": "markdown",
   "metadata": {},
   "source": [
    "#### How did you do?\n",
    "If you see something like this image when you play your saved file, you did it!  If not, keep trying, or take a peek at the [solution code](solutions/ex5.2.1_test1_to_file/dst1-mp4-out/deepstream_test1_mp4_out.py) in the solutions directory.  <br>"
   ]
  },
  {
   "cell_type": "markdown",
   "metadata": {},
   "source": [
    "<img src=\"images/04_test1_mp4_out.png\" alt=\"file output test1\">"
   ]
  },
  {
   "cell_type": "markdown",
   "metadata": {
    "tags": []
   },
   "source": [
    "# 5.3 Put It All Together\n",
    "Try it again with a few small enhancements, starting with the recommended app in the instructions, or one of your own from earlier in the course.  "
   ]
  },
  {
   "cell_type": "markdown",
   "metadata": {
    "tags": []
   },
   "source": [
    "## 5.3.1 Exercise: Change the File Type\n",
    "Add the following enhancements:\n",
    "1. Replace the RTSP portion of the pipeline with file output elements.\n",
    "1. Instead of `mp4mux`, which saves to `.mp4` format, try the `avimux` element and save to the `.avi` format.  \n",
    "1. Alter the `parse_args()` definition to include an output file name option (as with the previous exercise).\n",
    "1. Save your output file to a file at `/dli/task/nb5_test2_out.avi`"
   ]
  },
  {
   "cell_type": "code",
   "execution_count": null,
   "metadata": {},
   "outputs": [],
   "source": [
    "OUTPUT_PATH_EX3 = '/dli/task/nb5_test2_out.avi'"
   ]
  },
  {
   "cell_type": "code",
   "execution_count": null,
   "metadata": {},
   "outputs": [],
   "source": [
    "# TODO\n",
    "# Create a new app located at $MY_APPS/dst2-avi-out \n",
    "#      based on $PYTHON_APPS/deepstream-test2-rtsp-out"
   ]
  },
  {
   "cell_type": "code",
   "execution_count": null,
   "metadata": {},
   "outputs": [],
   "source": [
    "#TODO\n",
    "# Check usage of your new test2 avi app with the help option"
   ]
  },
  {
   "cell_type": "code",
   "execution_count": null,
   "metadata": {
    "scrolled": true,
    "tags": []
   },
   "outputs": [],
   "source": [
    "# TODO\n",
    "# Run the app"
   ]
  },
  {
   "cell_type": "markdown",
   "metadata": {},
   "source": [
    "#### Watch the video on your computer\n",
    "The `.avi` format cannot be viewed in this notebook.  To download the file to your computer, right-click from the file browser and select \"download\".  You can use the VLC Media Player (\"Media\"->\"Open File\") to play the video on your computer."
   ]
  },
  {
   "cell_type": "markdown",
   "metadata": {},
   "source": [
    "#### How did you do?\n",
    "If you see something like this image when you play your saved file, you've mastered saving your annotated videos to a file!  If not, keep trying, or take a peek at the [solution code](solutions/ex5.3.1_test2_to_file/solution-5.3.1.ipynb) in the solutions directory.  <br>"
   ]
  },
  {
   "cell_type": "markdown",
   "metadata": {},
   "source": [
    "<img src=\"images/02_3sgie.png\" alt=\"file output test2\">"
   ]
  },
  {
   "cell_type": "markdown",
   "metadata": {},
   "source": [
    "<h2 style=\"color:green;\">Congratulations!</h2>\n",
    "\n",
    "You modified a streaming DeepStream pipeline to instead save a video to a file.<br>\n",
    "Move on to [6.0 Different Neural Networks](./06_DiffNetworks.ipynb)\n"
   ]
  },
  {
   "cell_type": "markdown",
   "metadata": {},
   "source": [
    "<center><img src=\"images/DLI Header.png\" alt=\"Header\" width=\"400\"></center>"
   ]
  }
 ],
 "metadata": {
  "kernelspec": {
   "display_name": "Python 3",
   "language": "python",
   "name": "python3"
  },
  "language_info": {
   "codemirror_mode": {
    "name": "ipython",
    "version": 3
   },
   "file_extension": ".py",
   "mimetype": "text/x-python",
   "name": "python",
   "nbconvert_exporter": "python",
   "pygments_lexer": "ipython3",
   "version": "3.6.9"
  }
 },
 "nbformat": 4,
 "nbformat_minor": 4
}
